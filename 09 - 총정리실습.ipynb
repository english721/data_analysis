{
 "cells": [
  {
   "cell_type": "markdown",
   "metadata": {
    "id": "BFhIXgdYoYGp"
   },
   "source": [
    "# 09 - 종합 실습"
   ]
  },
  {
   "cell_type": "markdown",
   "metadata": {
    "id": "eRPNqQjA9RM8"
   },
   "source": [
    "## (1) 환경 준비"
   ]
  },
  {
   "cell_type": "markdown",
   "metadata": {
    "id": "bbwyNn__bn0Y"
   },
   "source": [
    "### 1) 라이브러리 불러오기"
   ]
  },
  {
   "cell_type": "code",
   "execution_count": 2,
   "metadata": {
    "id": "b9NraxWDnYr1"
   },
   "outputs": [],
   "source": [
    "# 판다스, 넘파이 라이브러리 불러오기\n",
    "import pandas as pd\n",
    "import numpy as np"
   ]
  },
  {
   "cell_type": "markdown",
   "metadata": {
    "id": "U0gIziwkbuYw"
   },
   "source": [
    "### 2) 데이터 불러오기"
   ]
  },
  {
   "cell_type": "markdown",
   "metadata": {
    "id": "iQcDMyxTbwo4"
   },
   "source": [
    "다음 세개의 데이터를 불러와서 저장합시다.\n",
    "\n",
    "* sales : https://raw.githubusercontent.com/DA4BAM/dataset/master/sales.csv\n",
    "* products : https://raw.githubusercontent.com/DA4BAM/dataset/master/products.csv\n",
    "* customers : https://raw.githubusercontent.com/DA4BAM/dataset/master/customers2.csv"
   ]
  },
  {
   "cell_type": "code",
   "execution_count": 3,
   "metadata": {
    "id": "7sVl9_SDbv-a"
   },
   "outputs": [],
   "source": [
    "sales = pd.read_csv('https://raw.githubusercontent.com/DA4BAM/dataset/master/sales.csv')\n",
    "products = pd.read_csv('https://raw.githubusercontent.com/DA4BAM/dataset/master/products.csv')\n",
    "customers = pd.read_csv('https://raw.githubusercontent.com/DA4BAM/dataset/master/customers2.csv')"
   ]
  },
  {
   "cell_type": "markdown",
   "metadata": {
    "id": "jxfAADt-cnhz"
   },
   "source": [
    "세 데이터프레임의 상위 5개 행을 조회하시오."
   ]
  },
  {
   "cell_type": "code",
   "execution_count": 55,
   "metadata": {
    "id": "J9CzRvK0cs9v"
   },
   "outputs": [
    {
     "name": "stdout",
     "output_type": "stream",
     "text": [
      "<class 'pandas.core.frame.DataFrame'>\n",
      "RangeIndex: 70012 entries, 0 to 70011\n",
      "Data columns (total 7 columns):\n",
      " #   Column      Non-Null Count  Dtype \n",
      "---  ------      --------------  ----- \n",
      " 0   OrderID     70012 non-null  int64 \n",
      " 1   Seq         70012 non-null  int64 \n",
      " 2   OrderDate   70012 non-null  object\n",
      " 3   ProductID   70012 non-null  object\n",
      " 4   Qty         70012 non-null  int64 \n",
      " 5   Amt         70012 non-null  int64 \n",
      " 6   CustomerID  70012 non-null  object\n",
      "dtypes: int64(4), object(3)\n",
      "memory usage: 3.7+ MB\n"
     ]
    }
   ],
   "source": [
    "sales.head()"
   ]
  },
  {
   "cell_type": "code",
   "execution_count": 56,
   "metadata": {
    "id": "1tY8pvkUf5v1"
   },
   "outputs": [
    {
     "name": "stdout",
     "output_type": "stream",
     "text": [
      "<class 'pandas.core.frame.DataFrame'>\n",
      "RangeIndex: 62 entries, 0 to 61\n",
      "Data columns (total 5 columns):\n",
      " #   Column       Non-Null Count  Dtype \n",
      "---  ------       --------------  ----- \n",
      " 0   ProductID    62 non-null     object\n",
      " 1   ProductName  62 non-null     object\n",
      " 2   Category     62 non-null     object\n",
      " 3   SubCategory  62 non-null     object\n",
      " 4   CategoryOrd  62 non-null     int64 \n",
      "dtypes: int64(1), object(4)\n",
      "memory usage: 2.5+ KB\n"
     ]
    }
   ],
   "source": [
    "products.head()"
   ]
  },
  {
   "cell_type": "code",
   "execution_count": 20,
   "metadata": {
    "id": "ZWZSrJLXf7dV"
   },
   "outputs": [
    {
     "data": {
      "text/html": [
       "<div>\n",
       "<style scoped>\n",
       "    .dataframe tbody tr th:only-of-type {\n",
       "        vertical-align: middle;\n",
       "    }\n",
       "\n",
       "    .dataframe tbody tr th {\n",
       "        vertical-align: top;\n",
       "    }\n",
       "\n",
       "    .dataframe thead th {\n",
       "        text-align: right;\n",
       "    }\n",
       "</style>\n",
       "<table border=\"1\" class=\"dataframe\">\n",
       "  <thead>\n",
       "    <tr style=\"text-align: right;\">\n",
       "      <th></th>\n",
       "      <th>CustomerID</th>\n",
       "      <th>RegisterDate</th>\n",
       "      <th>Gender</th>\n",
       "      <th>BirthYear</th>\n",
       "    </tr>\n",
       "  </thead>\n",
       "  <tbody>\n",
       "    <tr>\n",
       "      <th>0</th>\n",
       "      <td>c328222</td>\n",
       "      <td>2014-09-25</td>\n",
       "      <td>F</td>\n",
       "      <td>1960</td>\n",
       "    </tr>\n",
       "    <tr>\n",
       "      <th>1</th>\n",
       "      <td>c281448</td>\n",
       "      <td>2013-06-18</td>\n",
       "      <td>F</td>\n",
       "      <td>1974</td>\n",
       "    </tr>\n",
       "    <tr>\n",
       "      <th>2</th>\n",
       "      <td>c038336</td>\n",
       "      <td>2003-10-10</td>\n",
       "      <td>F</td>\n",
       "      <td>1968</td>\n",
       "    </tr>\n",
       "    <tr>\n",
       "      <th>3</th>\n",
       "      <td>c084237</td>\n",
       "      <td>2007-03-09</td>\n",
       "      <td>F</td>\n",
       "      <td>1982</td>\n",
       "    </tr>\n",
       "    <tr>\n",
       "      <th>4</th>\n",
       "      <td>c162600</td>\n",
       "      <td>2010-06-14</td>\n",
       "      <td>F</td>\n",
       "      <td>1978</td>\n",
       "    </tr>\n",
       "  </tbody>\n",
       "</table>\n",
       "</div>"
      ],
      "text/plain": [
       "  CustomerID RegisterDate Gender  BirthYear\n",
       "0    c328222   2014-09-25      F       1960\n",
       "1    c281448   2013-06-18      F       1974\n",
       "2    c038336   2003-10-10      F       1968\n",
       "3    c084237   2007-03-09      F       1982\n",
       "4    c162600   2010-06-14      F       1978"
      ]
     },
     "execution_count": 20,
     "metadata": {},
     "output_type": "execute_result"
    }
   ],
   "source": [
    "customers.head()"
   ]
  },
  {
   "cell_type": "markdown",
   "metadata": {
    "id": "jMuRJ6NccVXh"
   },
   "source": [
    "## (2) 데이터 집계, 수정, 조회하기"
   ]
  },
  {
   "cell_type": "markdown",
   "metadata": {
    "id": "DGmzNt-AcVXh"
   },
   "source": [
    "### 1) sales의 ProductID 별 판매량(Qty)과 판매액(Amt)의 합계를 tmp에 저장하고 조회하시오."
   ]
  },
  {
   "cell_type": "code",
   "execution_count": 10,
   "metadata": {
    "id": "BQR_SDN5cVXi"
   },
   "outputs": [
    {
     "data": {
      "text/html": [
       "<div>\n",
       "<style scoped>\n",
       "    .dataframe tbody tr th:only-of-type {\n",
       "        vertical-align: middle;\n",
       "    }\n",
       "\n",
       "    .dataframe tbody tr th {\n",
       "        vertical-align: top;\n",
       "    }\n",
       "\n",
       "    .dataframe thead th {\n",
       "        text-align: right;\n",
       "    }\n",
       "</style>\n",
       "<table border=\"1\" class=\"dataframe\">\n",
       "  <thead>\n",
       "    <tr style=\"text-align: right;\">\n",
       "      <th></th>\n",
       "      <th>Qty</th>\n",
       "      <th>Amt</th>\n",
       "    </tr>\n",
       "    <tr>\n",
       "      <th>ProductID</th>\n",
       "      <th></th>\n",
       "      <th></th>\n",
       "    </tr>\n",
       "  </thead>\n",
       "  <tbody>\n",
       "    <tr>\n",
       "      <th>p1001771</th>\n",
       "      <td>1055</td>\n",
       "      <td>3354827</td>\n",
       "    </tr>\n",
       "    <tr>\n",
       "      <th>p1002841</th>\n",
       "      <td>903</td>\n",
       "      <td>11011541</td>\n",
       "    </tr>\n",
       "    <tr>\n",
       "      <th>p1005621</th>\n",
       "      <td>906</td>\n",
       "      <td>2601703</td>\n",
       "    </tr>\n",
       "    <tr>\n",
       "      <th>p1005771</th>\n",
       "      <td>3963</td>\n",
       "      <td>7319963</td>\n",
       "    </tr>\n",
       "    <tr>\n",
       "      <th>p1005891</th>\n",
       "      <td>5194</td>\n",
       "      <td>10119037</td>\n",
       "    </tr>\n",
       "    <tr>\n",
       "      <th>...</th>\n",
       "      <td>...</td>\n",
       "      <td>...</td>\n",
       "    </tr>\n",
       "    <tr>\n",
       "      <th>p1246581</th>\n",
       "      <td>2180</td>\n",
       "      <td>2456346</td>\n",
       "    </tr>\n",
       "    <tr>\n",
       "      <th>p1255281</th>\n",
       "      <td>809</td>\n",
       "      <td>955633</td>\n",
       "    </tr>\n",
       "    <tr>\n",
       "      <th>p1256521</th>\n",
       "      <td>701</td>\n",
       "      <td>1241545</td>\n",
       "    </tr>\n",
       "    <tr>\n",
       "      <th>p1284851</th>\n",
       "      <td>2350</td>\n",
       "      <td>6437323</td>\n",
       "    </tr>\n",
       "    <tr>\n",
       "      <th>p1299491</th>\n",
       "      <td>530</td>\n",
       "      <td>1094319</td>\n",
       "    </tr>\n",
       "  </tbody>\n",
       "</table>\n",
       "<p>62 rows × 2 columns</p>\n",
       "</div>"
      ],
      "text/plain": [
       "            Qty       Amt\n",
       "ProductID                \n",
       "p1001771   1055   3354827\n",
       "p1002841    903  11011541\n",
       "p1005621    906   2601703\n",
       "p1005771   3963   7319963\n",
       "p1005891   5194  10119037\n",
       "...         ...       ...\n",
       "p1246581   2180   2456346\n",
       "p1255281    809    955633\n",
       "p1256521    701   1241545\n",
       "p1284851   2350   6437323\n",
       "p1299491    530   1094319\n",
       "\n",
       "[62 rows x 2 columns]"
      ]
     },
     "execution_count": 10,
     "metadata": {},
     "output_type": "execute_result"
    }
   ],
   "source": [
    "tmp = sales.groupby('ProductID')[['Qty', 'Amt']].sum()\n",
    "tmp"
   ]
  },
  {
   "cell_type": "markdown",
   "metadata": {
    "id": "DMOy9kfpgVom"
   },
   "source": [
    "### 2)  1번 결과를 판매액 기준 내림차순으로 정렬하고 상위 5개 상품을 조회하시오.  \n",
    "(매출액 상위 5개 상품을 조회하시오.)"
   ]
  },
  {
   "cell_type": "code",
   "execution_count": 11,
   "metadata": {
    "id": "7ZiF4WVMgVon"
   },
   "outputs": [
    {
     "data": {
      "text/html": [
       "<div>\n",
       "<style scoped>\n",
       "    .dataframe tbody tr th:only-of-type {\n",
       "        vertical-align: middle;\n",
       "    }\n",
       "\n",
       "    .dataframe tbody tr th {\n",
       "        vertical-align: top;\n",
       "    }\n",
       "\n",
       "    .dataframe thead th {\n",
       "        text-align: right;\n",
       "    }\n",
       "</style>\n",
       "<table border=\"1\" class=\"dataframe\">\n",
       "  <thead>\n",
       "    <tr style=\"text-align: right;\">\n",
       "      <th></th>\n",
       "      <th>Qty</th>\n",
       "      <th>Amt</th>\n",
       "    </tr>\n",
       "    <tr>\n",
       "      <th>ProductID</th>\n",
       "      <th></th>\n",
       "      <th></th>\n",
       "    </tr>\n",
       "  </thead>\n",
       "  <tbody>\n",
       "    <tr>\n",
       "      <th>p1072601</th>\n",
       "      <td>4058</td>\n",
       "      <td>18129067</td>\n",
       "    </tr>\n",
       "    <tr>\n",
       "      <th>p1178011</th>\n",
       "      <td>1653</td>\n",
       "      <td>14078818</td>\n",
       "    </tr>\n",
       "    <tr>\n",
       "      <th>p1002841</th>\n",
       "      <td>903</td>\n",
       "      <td>11011541</td>\n",
       "    </tr>\n",
       "    <tr>\n",
       "      <th>p1005891</th>\n",
       "      <td>5194</td>\n",
       "      <td>10119037</td>\n",
       "    </tr>\n",
       "    <tr>\n",
       "      <th>p1194801</th>\n",
       "      <td>990</td>\n",
       "      <td>7517664</td>\n",
       "    </tr>\n",
       "  </tbody>\n",
       "</table>\n",
       "</div>"
      ],
      "text/plain": [
       "            Qty       Amt\n",
       "ProductID                \n",
       "p1072601   4058  18129067\n",
       "p1178011   1653  14078818\n",
       "p1002841    903  11011541\n",
       "p1005891   5194  10119037\n",
       "p1194801    990   7517664"
      ]
     },
     "execution_count": 11,
     "metadata": {},
     "output_type": "execute_result"
    }
   ],
   "source": [
    "tmp.sort_values('Amt', ascending = False).head()"
   ]
  },
  {
   "cell_type": "markdown",
   "metadata": {
    "id": "S_sqc9exdaQj"
   },
   "source": [
    "### 3) customers의 성별(Gender) 별 고객 수를 조회하시오."
   ]
  },
  {
   "cell_type": "code",
   "execution_count": 18,
   "metadata": {
    "id": "G6ahip2DdaQr"
   },
   "outputs": [
    {
     "data": {
      "text/plain": [
       "F    2060\n",
       "M     183\n",
       "Name: Gender, dtype: int64"
      ]
     },
     "execution_count": 18,
     "metadata": {},
     "output_type": "execute_result"
    }
   ],
   "source": [
    "customers['Gender'].value_counts()"
   ]
  },
  {
   "cell_type": "markdown",
   "metadata": {
    "id": "GMfD-8-gfgFn"
   },
   "source": [
    "### 4) customers의 출생연도(BirthYear) 로 부터 나이(Age)를 계산해서 변수로 추가하시오."
   ]
  },
  {
   "cell_type": "code",
   "execution_count": 11,
   "metadata": {
    "id": "FNgZrhqrfgF1"
   },
   "outputs": [],
   "source": [
    "customers['Age']= 2022-customers['BirthYear']"
   ]
  },
  {
   "cell_type": "markdown",
   "metadata": {
    "id": "HojPPCg-hKbo"
   },
   "source": [
    "### 5) customers의 나이(Age)를 나이대(AgeGroup)로 변환하시오.\n",
    "\n",
    "* [ , 30)  : 30미만\n",
    "* [30, 40) : 30대\n",
    "* [40, 50) : 40대\n",
    "* [50, 60) : 50대\n",
    "* [60, 70) : 60대\n",
    "* [70, )   : 70이상\n",
    "\n",
    "> [30, 40) 의 의미 : 30 <= ,  < 40"
   ]
  },
  {
   "cell_type": "code",
   "execution_count": 12,
   "metadata": {
    "id": "84Qi9owGhKbp"
   },
   "outputs": [],
   "source": [
    "bin = [0,30,40,50,60,70,100]\n",
    "customers['AgeGroup'] = pd.cut(customers['Age'], bins = bin, right = False, labels = ['30대미만', '30대','40대', '50대', '60대', '70이상' ])"
   ]
  },
  {
   "cell_type": "markdown",
   "metadata": {
    "id": "dQFlWG09jq7x"
   },
   "source": [
    "### 6) customers의 나이대(AgeGroup) 별 고객수를 구해 봅시다."
   ]
  },
  {
   "cell_type": "code",
   "execution_count": 13,
   "metadata": {
    "id": "gsnU0dfkjq7y"
   },
   "outputs": [
    {
     "data": {
      "text/html": [
       "<div>\n",
       "<style scoped>\n",
       "    .dataframe tbody tr th:only-of-type {\n",
       "        vertical-align: middle;\n",
       "    }\n",
       "\n",
       "    .dataframe tbody tr th {\n",
       "        vertical-align: top;\n",
       "    }\n",
       "\n",
       "    .dataframe thead th {\n",
       "        text-align: right;\n",
       "    }\n",
       "</style>\n",
       "<table border=\"1\" class=\"dataframe\">\n",
       "  <thead>\n",
       "    <tr style=\"text-align: right;\">\n",
       "      <th></th>\n",
       "      <th>CustomerID</th>\n",
       "      <th>RegisterDate</th>\n",
       "      <th>Gender</th>\n",
       "      <th>BirthYear</th>\n",
       "      <th>Age</th>\n",
       "    </tr>\n",
       "    <tr>\n",
       "      <th>AgeGroup</th>\n",
       "      <th></th>\n",
       "      <th></th>\n",
       "      <th></th>\n",
       "      <th></th>\n",
       "      <th></th>\n",
       "    </tr>\n",
       "  </thead>\n",
       "  <tbody>\n",
       "    <tr>\n",
       "      <th>30대미만</th>\n",
       "      <td>6</td>\n",
       "      <td>6</td>\n",
       "      <td>6</td>\n",
       "      <td>6</td>\n",
       "      <td>6</td>\n",
       "    </tr>\n",
       "    <tr>\n",
       "      <th>30대</th>\n",
       "      <td>186</td>\n",
       "      <td>186</td>\n",
       "      <td>186</td>\n",
       "      <td>186</td>\n",
       "      <td>186</td>\n",
       "    </tr>\n",
       "    <tr>\n",
       "      <th>40대</th>\n",
       "      <td>925</td>\n",
       "      <td>925</td>\n",
       "      <td>925</td>\n",
       "      <td>925</td>\n",
       "      <td>925</td>\n",
       "    </tr>\n",
       "    <tr>\n",
       "      <th>50대</th>\n",
       "      <td>749</td>\n",
       "      <td>749</td>\n",
       "      <td>749</td>\n",
       "      <td>749</td>\n",
       "      <td>749</td>\n",
       "    </tr>\n",
       "    <tr>\n",
       "      <th>60대</th>\n",
       "      <td>267</td>\n",
       "      <td>267</td>\n",
       "      <td>267</td>\n",
       "      <td>267</td>\n",
       "      <td>267</td>\n",
       "    </tr>\n",
       "    <tr>\n",
       "      <th>70이상</th>\n",
       "      <td>110</td>\n",
       "      <td>110</td>\n",
       "      <td>110</td>\n",
       "      <td>110</td>\n",
       "      <td>110</td>\n",
       "    </tr>\n",
       "  </tbody>\n",
       "</table>\n",
       "</div>"
      ],
      "text/plain": [
       "          CustomerID  RegisterDate  Gender  BirthYear  Age\n",
       "AgeGroup                                                  \n",
       "30대미만              6             6       6          6    6\n",
       "30대              186           186     186        186  186\n",
       "40대              925           925     925        925  925\n",
       "50대              749           749     749        749  749\n",
       "60대              267           267     267        267  267\n",
       "70이상             110           110     110        110  110"
      ]
     },
     "execution_count": 13,
     "metadata": {},
     "output_type": "execute_result"
    }
   ],
   "source": [
    "customers.groupby('AgeGroup').count()"
   ]
  },
  {
   "cell_type": "markdown",
   "metadata": {
    "id": "bdHV4xvlj_LN"
   },
   "source": [
    "### 7) 매출액 top 5 상품명을 조회해 봅시다.\n",
    "\n",
    "* 매출액은 sales에 있고, 상품명은 products에 있습니다. 한꺼번에 조회하려면 merge를 사용해야 합니다.\n",
    "    * 1) sales와 products를 ProductID 기준으로 inner 조인을 합시다.\n",
    "    * 2) 상품명 별 매출액 합계를 집계합니다. \n",
    "    * 3) 매출액 합계 기준 내림차순으로 정렬하고 top 5를 조죄합니다.\n"
   ]
  },
  {
   "cell_type": "code",
   "execution_count": 15,
   "metadata": {
    "id": "KnEZgZtDj_LO"
   },
   "outputs": [],
   "source": [
    "# 1) sales와 products를 ProductID 기준으로 inner 조인을 합시다.\n",
    "tmp = pd.merge(sales, products, on = 'ProductID', how = 'inner')\n"
   ]
  },
  {
   "cell_type": "code",
   "execution_count": 16,
   "metadata": {
    "id": "phaevIemkura"
   },
   "outputs": [
    {
     "data": {
      "text/plain": [
       "ProductName\n",
       "감귤컵푸딩        677154\n",
       "감자칩         3676518\n",
       "고구마스틱       1620986\n",
       "깻잎          2930359\n",
       "낱개캔디         479197\n",
       "느타리버섯       4163035\n",
       "당근          4453387\n",
       "두부_대       10119037\n",
       "두부_소        7319963\n",
       "딸기_대       11011541\n",
       "딸기_소        7517664\n",
       "딸기아이스크림      940786\n",
       "딸기요거트        955633\n",
       "마늘          3354827\n",
       "무           1260905\n",
       "무농약시금치      2469392\n",
       "배아이스크림       623612\n",
       "백오이         2036463\n",
       "부추          1070348\n",
       "부침용두부       1241545\n",
       "브로컬리        3491762\n",
       "뿌셔뿌셔        1215673\n",
       "사과_대        5399285\n",
       "사과_소       14078818\n",
       "사과아이스크림      794018\n",
       "상추          1494844\n",
       "새우깡         2340237\n",
       "소보루빵         536294\n",
       "숙주나물        2601703\n",
       "순두부          820101\n",
       "시금치         2665640\n",
       "쌈모음         3229161\n",
       "애호박         3421170\n",
       "양배출         1478820\n",
       "양파           762702\n",
       "연두부         1017937\n",
       "열무          1867542\n",
       "우유1000     18129067\n",
       "우유200       2359250\n",
       "유기농우유       6437323\n",
       "유부          2113187\n",
       "저지방우유       4404124\n",
       "짱구          2161256\n",
       "참외          5491030\n",
       "청오이         3960918\n",
       "초코아이스크림     1158483\n",
       "초코우유        2456346\n",
       "초코콘          374057\n",
       "콘칩           942184\n",
       "콩나물         6971347\n",
       "토마토         6291001\n",
       "통단팥빵         830162\n",
       "파           4518592\n",
       "팥아이스크림       759973\n",
       "팽이버섯         691947\n",
       "포도컵푸딩        777637\n",
       "포토아이스크림      672267\n",
       "플레인요거트      5197017\n",
       "피망          3164241\n",
       "Name: Amt, dtype: int64"
      ]
     },
     "execution_count": 16,
     "metadata": {},
     "output_type": "execute_result"
    }
   ],
   "source": [
    "# 2) 2) 상품명 별 매출액 합계를 집계합니다.\n",
    "tmp.groupby('ProductName')['Amt'].sum()\n"
   ]
  },
  {
   "cell_type": "code",
   "execution_count": 17,
   "metadata": {
    "id": "NRC5dKFolIWf"
   },
   "outputs": [
    {
     "data": {
      "text/html": [
       "<div>\n",
       "<style scoped>\n",
       "    .dataframe tbody tr th:only-of-type {\n",
       "        vertical-align: middle;\n",
       "    }\n",
       "\n",
       "    .dataframe tbody tr th {\n",
       "        vertical-align: top;\n",
       "    }\n",
       "\n",
       "    .dataframe thead th {\n",
       "        text-align: right;\n",
       "    }\n",
       "</style>\n",
       "<table border=\"1\" class=\"dataframe\">\n",
       "  <thead>\n",
       "    <tr style=\"text-align: right;\">\n",
       "      <th></th>\n",
       "      <th>Amt</th>\n",
       "    </tr>\n",
       "    <tr>\n",
       "      <th>ProductName</th>\n",
       "      <th></th>\n",
       "    </tr>\n",
       "  </thead>\n",
       "  <tbody>\n",
       "    <tr>\n",
       "      <th>우유1000</th>\n",
       "      <td>18129067</td>\n",
       "    </tr>\n",
       "    <tr>\n",
       "      <th>사과_소</th>\n",
       "      <td>14078818</td>\n",
       "    </tr>\n",
       "    <tr>\n",
       "      <th>딸기_대</th>\n",
       "      <td>11011541</td>\n",
       "    </tr>\n",
       "    <tr>\n",
       "      <th>두부_대</th>\n",
       "      <td>10119037</td>\n",
       "    </tr>\n",
       "    <tr>\n",
       "      <th>딸기_소</th>\n",
       "      <td>7517664</td>\n",
       "    </tr>\n",
       "  </tbody>\n",
       "</table>\n",
       "</div>"
      ],
      "text/plain": [
       "                  Amt\n",
       "ProductName          \n",
       "우유1000       18129067\n",
       "사과_소         14078818\n",
       "딸기_대         11011541\n",
       "두부_대         10119037\n",
       "딸기_소          7517664"
      ]
     },
     "execution_count": 17,
     "metadata": {},
     "output_type": "execute_result"
    }
   ],
   "source": [
    "# 3) 매출액 합계 기준 내림차순으로 정렬하고 top 5를 조죄합니다.\n",
    "\n",
    "tmp.groupby('ProductName')[['Amt']].sum().sort_values('Amt', ascending = False).head()"
   ]
  },
  {
   "cell_type": "markdown",
   "metadata": {
    "id": "AxRB-sH7lX-f"
   },
   "source": [
    "### 8) 연령대 별 매출액을 조회합시다.\n",
    "\n",
    "* 매출액은 sales에 있고, 연령대(AgeGroup)은 customers에 있습니다. 한꺼번에 조회하려면 merge를 사용해야 합니다.\n"
   ]
  },
  {
   "cell_type": "code",
   "execution_count": 18,
   "metadata": {
    "id": "9xsL0f0IlX-g"
   },
   "outputs": [
    {
     "data": {
      "text/html": [
       "<div>\n",
       "<style scoped>\n",
       "    .dataframe tbody tr th:only-of-type {\n",
       "        vertical-align: middle;\n",
       "    }\n",
       "\n",
       "    .dataframe tbody tr th {\n",
       "        vertical-align: top;\n",
       "    }\n",
       "\n",
       "    .dataframe thead th {\n",
       "        text-align: right;\n",
       "    }\n",
       "</style>\n",
       "<table border=\"1\" class=\"dataframe\">\n",
       "  <thead>\n",
       "    <tr style=\"text-align: right;\">\n",
       "      <th></th>\n",
       "      <th>OrderID</th>\n",
       "      <th>Seq</th>\n",
       "      <th>OrderDate</th>\n",
       "      <th>ProductID</th>\n",
       "      <th>Qty</th>\n",
       "      <th>Amt</th>\n",
       "      <th>CustomerID</th>\n",
       "      <th>RegisterDate</th>\n",
       "      <th>Gender</th>\n",
       "      <th>BirthYear</th>\n",
       "      <th>Age</th>\n",
       "      <th>AgeGroup</th>\n",
       "    </tr>\n",
       "  </thead>\n",
       "  <tbody>\n",
       "    <tr>\n",
       "      <th>0</th>\n",
       "      <td>107</td>\n",
       "      <td>2</td>\n",
       "      <td>2016-01-02</td>\n",
       "      <td>p1036481</td>\n",
       "      <td>2</td>\n",
       "      <td>2100</td>\n",
       "      <td>c150417</td>\n",
       "      <td>2010-03-03</td>\n",
       "      <td>F</td>\n",
       "      <td>1974</td>\n",
       "      <td>48</td>\n",
       "      <td>40대</td>\n",
       "    </tr>\n",
       "    <tr>\n",
       "      <th>1</th>\n",
       "      <td>107</td>\n",
       "      <td>1</td>\n",
       "      <td>2016-01-02</td>\n",
       "      <td>p1175481</td>\n",
       "      <td>1</td>\n",
       "      <td>1300</td>\n",
       "      <td>c150417</td>\n",
       "      <td>2010-03-03</td>\n",
       "      <td>F</td>\n",
       "      <td>1974</td>\n",
       "      <td>48</td>\n",
       "      <td>40대</td>\n",
       "    </tr>\n",
       "    <tr>\n",
       "      <th>2</th>\n",
       "      <td>185</td>\n",
       "      <td>1</td>\n",
       "      <td>2016-01-04</td>\n",
       "      <td>p1162631</td>\n",
       "      <td>1</td>\n",
       "      <td>4600</td>\n",
       "      <td>c150417</td>\n",
       "      <td>2010-03-03</td>\n",
       "      <td>F</td>\n",
       "      <td>1974</td>\n",
       "      <td>48</td>\n",
       "      <td>40대</td>\n",
       "    </tr>\n",
       "    <tr>\n",
       "      <th>3</th>\n",
       "      <td>67</td>\n",
       "      <td>2</td>\n",
       "      <td>2016-01-11</td>\n",
       "      <td>p1012751</td>\n",
       "      <td>1</td>\n",
       "      <td>1350</td>\n",
       "      <td>c150417</td>\n",
       "      <td>2010-03-03</td>\n",
       "      <td>F</td>\n",
       "      <td>1974</td>\n",
       "      <td>48</td>\n",
       "      <td>40대</td>\n",
       "    </tr>\n",
       "    <tr>\n",
       "      <th>4</th>\n",
       "      <td>201</td>\n",
       "      <td>3</td>\n",
       "      <td>2016-01-12</td>\n",
       "      <td>p1005891</td>\n",
       "      <td>1</td>\n",
       "      <td>1950</td>\n",
       "      <td>c150417</td>\n",
       "      <td>2010-03-03</td>\n",
       "      <td>F</td>\n",
       "      <td>1974</td>\n",
       "      <td>48</td>\n",
       "      <td>40대</td>\n",
       "    </tr>\n",
       "    <tr>\n",
       "      <th>...</th>\n",
       "      <td>...</td>\n",
       "      <td>...</td>\n",
       "      <td>...</td>\n",
       "      <td>...</td>\n",
       "      <td>...</td>\n",
       "      <td>...</td>\n",
       "      <td>...</td>\n",
       "      <td>...</td>\n",
       "      <td>...</td>\n",
       "      <td>...</td>\n",
       "      <td>...</td>\n",
       "      <td>...</td>\n",
       "    </tr>\n",
       "    <tr>\n",
       "      <th>70007</th>\n",
       "      <td>193</td>\n",
       "      <td>5</td>\n",
       "      <td>2017-03-31</td>\n",
       "      <td>p1179241</td>\n",
       "      <td>2</td>\n",
       "      <td>4400</td>\n",
       "      <td>c017735</td>\n",
       "      <td>2002-07-31</td>\n",
       "      <td>F</td>\n",
       "      <td>1960</td>\n",
       "      <td>62</td>\n",
       "      <td>60대</td>\n",
       "    </tr>\n",
       "    <tr>\n",
       "      <th>70008</th>\n",
       "      <td>193</td>\n",
       "      <td>6</td>\n",
       "      <td>2017-03-31</td>\n",
       "      <td>p1144661</td>\n",
       "      <td>1</td>\n",
       "      <td>2500</td>\n",
       "      <td>c017735</td>\n",
       "      <td>2002-07-31</td>\n",
       "      <td>F</td>\n",
       "      <td>1960</td>\n",
       "      <td>62</td>\n",
       "      <td>60대</td>\n",
       "    </tr>\n",
       "    <tr>\n",
       "      <th>70009</th>\n",
       "      <td>193</td>\n",
       "      <td>7</td>\n",
       "      <td>2017-03-31</td>\n",
       "      <td>p1012581</td>\n",
       "      <td>1</td>\n",
       "      <td>1050</td>\n",
       "      <td>c017735</td>\n",
       "      <td>2002-07-31</td>\n",
       "      <td>F</td>\n",
       "      <td>1960</td>\n",
       "      <td>62</td>\n",
       "      <td>60대</td>\n",
       "    </tr>\n",
       "    <tr>\n",
       "      <th>70010</th>\n",
       "      <td>193</td>\n",
       "      <td>9</td>\n",
       "      <td>2017-03-31</td>\n",
       "      <td>p1052661</td>\n",
       "      <td>1</td>\n",
       "      <td>1545</td>\n",
       "      <td>c017735</td>\n",
       "      <td>2002-07-31</td>\n",
       "      <td>F</td>\n",
       "      <td>1960</td>\n",
       "      <td>62</td>\n",
       "      <td>60대</td>\n",
       "    </tr>\n",
       "    <tr>\n",
       "      <th>70011</th>\n",
       "      <td>193</td>\n",
       "      <td>10</td>\n",
       "      <td>2017-03-31</td>\n",
       "      <td>p1054261</td>\n",
       "      <td>1</td>\n",
       "      <td>2091</td>\n",
       "      <td>c017735</td>\n",
       "      <td>2002-07-31</td>\n",
       "      <td>F</td>\n",
       "      <td>1960</td>\n",
       "      <td>62</td>\n",
       "      <td>60대</td>\n",
       "    </tr>\n",
       "  </tbody>\n",
       "</table>\n",
       "<p>70012 rows × 12 columns</p>\n",
       "</div>"
      ],
      "text/plain": [
       "       OrderID  Seq   OrderDate ProductID  Qty   Amt CustomerID RegisterDate  \\\n",
       "0          107    2  2016-01-02  p1036481    2  2100    c150417   2010-03-03   \n",
       "1          107    1  2016-01-02  p1175481    1  1300    c150417   2010-03-03   \n",
       "2          185    1  2016-01-04  p1162631    1  4600    c150417   2010-03-03   \n",
       "3           67    2  2016-01-11  p1012751    1  1350    c150417   2010-03-03   \n",
       "4          201    3  2016-01-12  p1005891    1  1950    c150417   2010-03-03   \n",
       "...        ...  ...         ...       ...  ...   ...        ...          ...   \n",
       "70007      193    5  2017-03-31  p1179241    2  4400    c017735   2002-07-31   \n",
       "70008      193    6  2017-03-31  p1144661    1  2500    c017735   2002-07-31   \n",
       "70009      193    7  2017-03-31  p1012581    1  1050    c017735   2002-07-31   \n",
       "70010      193    9  2017-03-31  p1052661    1  1545    c017735   2002-07-31   \n",
       "70011      193   10  2017-03-31  p1054261    1  2091    c017735   2002-07-31   \n",
       "\n",
       "      Gender  BirthYear  Age AgeGroup  \n",
       "0          F       1974   48      40대  \n",
       "1          F       1974   48      40대  \n",
       "2          F       1974   48      40대  \n",
       "3          F       1974   48      40대  \n",
       "4          F       1974   48      40대  \n",
       "...      ...        ...  ...      ...  \n",
       "70007      F       1960   62      60대  \n",
       "70008      F       1960   62      60대  \n",
       "70009      F       1960   62      60대  \n",
       "70010      F       1960   62      60대  \n",
       "70011      F       1960   62      60대  \n",
       "\n",
       "[70012 rows x 12 columns]"
      ]
     },
     "execution_count": 18,
     "metadata": {},
     "output_type": "execute_result"
    }
   ],
   "source": [
    "# 1) sales와 customers를  CustomerID 기준으로 inner 조인을 합시다.\n",
    "\n",
    "tmp = pd.merge(sales, customers, on = 'CustomerID', how = 'inner')\n",
    "tmp"
   ]
  },
  {
   "cell_type": "code",
   "execution_count": 19,
   "metadata": {
    "id": "5VJpAGqzlX-h"
   },
   "outputs": [
    {
     "data": {
      "text/html": [
       "<div>\n",
       "<style scoped>\n",
       "    .dataframe tbody tr th:only-of-type {\n",
       "        vertical-align: middle;\n",
       "    }\n",
       "\n",
       "    .dataframe tbody tr th {\n",
       "        vertical-align: top;\n",
       "    }\n",
       "\n",
       "    .dataframe thead th {\n",
       "        text-align: right;\n",
       "    }\n",
       "</style>\n",
       "<table border=\"1\" class=\"dataframe\">\n",
       "  <thead>\n",
       "    <tr style=\"text-align: right;\">\n",
       "      <th></th>\n",
       "      <th>Amt</th>\n",
       "    </tr>\n",
       "    <tr>\n",
       "      <th>AgeGroup</th>\n",
       "      <th></th>\n",
       "    </tr>\n",
       "  </thead>\n",
       "  <tbody>\n",
       "    <tr>\n",
       "      <th>30대미만</th>\n",
       "      <td>167539</td>\n",
       "    </tr>\n",
       "    <tr>\n",
       "      <th>30대</th>\n",
       "      <td>11730152</td>\n",
       "    </tr>\n",
       "    <tr>\n",
       "      <th>40대</th>\n",
       "      <td>86042546</td>\n",
       "    </tr>\n",
       "    <tr>\n",
       "      <th>50대</th>\n",
       "      <td>70047957</td>\n",
       "    </tr>\n",
       "    <tr>\n",
       "      <th>60대</th>\n",
       "      <td>19286478</td>\n",
       "    </tr>\n",
       "    <tr>\n",
       "      <th>70이상</th>\n",
       "      <td>7724796</td>\n",
       "    </tr>\n",
       "  </tbody>\n",
       "</table>\n",
       "</div>"
      ],
      "text/plain": [
       "               Amt\n",
       "AgeGroup          \n",
       "30대미만       167539\n",
       "30대       11730152\n",
       "40대       86042546\n",
       "50대       70047957\n",
       "60대       19286478\n",
       "70이상       7724796"
      ]
     },
     "execution_count": 19,
     "metadata": {},
     "output_type": "execute_result"
    }
   ],
   "source": [
    "# 2) AgeGroup 별 매출액 합계를 집계합니다.\n",
    "\n",
    "tmp.groupby('AgeGroup')[['Amt']].sum()"
   ]
  },
  {
   "cell_type": "markdown",
   "metadata": {
    "id": "giPbG_fcmZ9u"
   },
   "source": [
    "### 9) [심화]연령대 별, 상품 카테고리 매출 비중(%)을 조회합시다.\n",
    "\n",
    "* 1) 세 데이터프레임을 merge 해야 합니다.\n",
    "    * merge는 한번에 두개씩만 가능하므로, 두번 수행합니다.\n",
    "* 2) for loop를 이용하여, 각 연령대에 대해서 다음의 작업을 반복 수행합니다. \n",
    "    * 하나의 연령대 값에 대해서, \n",
    "        * 상품 카테고리(Category)별 매출액 합계를 구합니다.\n",
    "        * 연령대에 해당하는 전체 매출액으로 나눠서, 카테고리별 비율을 계산합니다.\n",
    "        * 결과를 출력합니다.\n",
    "\n"
   ]
  },
  {
   "cell_type": "code",
   "execution_count": 21,
   "metadata": {
    "id": "r2JNeeWamZ9v"
   },
   "outputs": [
    {
     "data": {
      "text/html": [
       "<div>\n",
       "<style scoped>\n",
       "    .dataframe tbody tr th:only-of-type {\n",
       "        vertical-align: middle;\n",
       "    }\n",
       "\n",
       "    .dataframe tbody tr th {\n",
       "        vertical-align: top;\n",
       "    }\n",
       "\n",
       "    .dataframe thead th {\n",
       "        text-align: right;\n",
       "    }\n",
       "</style>\n",
       "<table border=\"1\" class=\"dataframe\">\n",
       "  <thead>\n",
       "    <tr style=\"text-align: right;\">\n",
       "      <th></th>\n",
       "      <th>ProductID</th>\n",
       "      <th>ProductName</th>\n",
       "      <th>Category</th>\n",
       "      <th>SubCategory</th>\n",
       "      <th>CategoryOrd</th>\n",
       "      <th>OrderID</th>\n",
       "      <th>Seq</th>\n",
       "      <th>OrderDate</th>\n",
       "      <th>Qty</th>\n",
       "      <th>Amt</th>\n",
       "      <th>CustomerID</th>\n",
       "      <th>RegisterDate</th>\n",
       "      <th>Gender</th>\n",
       "      <th>BirthYear</th>\n",
       "      <th>Age</th>\n",
       "      <th>AgeGroup</th>\n",
       "    </tr>\n",
       "  </thead>\n",
       "  <tbody>\n",
       "    <tr>\n",
       "      <th>0</th>\n",
       "      <td>p1052661</td>\n",
       "      <td>새우깡</td>\n",
       "      <td>간식</td>\n",
       "      <td>과자</td>\n",
       "      <td>3</td>\n",
       "      <td>83</td>\n",
       "      <td>7</td>\n",
       "      <td>2016-01-02</td>\n",
       "      <td>1</td>\n",
       "      <td>1455</td>\n",
       "      <td>c085558</td>\n",
       "      <td>2007-04-05</td>\n",
       "      <td>F</td>\n",
       "      <td>1974</td>\n",
       "      <td>48</td>\n",
       "      <td>40대</td>\n",
       "    </tr>\n",
       "    <tr>\n",
       "      <th>1</th>\n",
       "      <td>p1052661</td>\n",
       "      <td>새우깡</td>\n",
       "      <td>간식</td>\n",
       "      <td>과자</td>\n",
       "      <td>3</td>\n",
       "      <td>139</td>\n",
       "      <td>17</td>\n",
       "      <td>2016-07-13</td>\n",
       "      <td>1</td>\n",
       "      <td>1318</td>\n",
       "      <td>c085558</td>\n",
       "      <td>2007-04-05</td>\n",
       "      <td>F</td>\n",
       "      <td>1974</td>\n",
       "      <td>48</td>\n",
       "      <td>40대</td>\n",
       "    </tr>\n",
       "    <tr>\n",
       "      <th>2</th>\n",
       "      <td>p1052661</td>\n",
       "      <td>새우깡</td>\n",
       "      <td>간식</td>\n",
       "      <td>과자</td>\n",
       "      <td>3</td>\n",
       "      <td>171</td>\n",
       "      <td>3</td>\n",
       "      <td>2016-10-12</td>\n",
       "      <td>1</td>\n",
       "      <td>1455</td>\n",
       "      <td>c085558</td>\n",
       "      <td>2007-04-05</td>\n",
       "      <td>F</td>\n",
       "      <td>1974</td>\n",
       "      <td>48</td>\n",
       "      <td>40대</td>\n",
       "    </tr>\n",
       "    <tr>\n",
       "      <th>3</th>\n",
       "      <td>p1052661</td>\n",
       "      <td>새우깡</td>\n",
       "      <td>간식</td>\n",
       "      <td>과자</td>\n",
       "      <td>3</td>\n",
       "      <td>177</td>\n",
       "      <td>23</td>\n",
       "      <td>2017-02-21</td>\n",
       "      <td>1</td>\n",
       "      <td>1545</td>\n",
       "      <td>c085558</td>\n",
       "      <td>2007-04-05</td>\n",
       "      <td>F</td>\n",
       "      <td>1974</td>\n",
       "      <td>48</td>\n",
       "      <td>40대</td>\n",
       "    </tr>\n",
       "    <tr>\n",
       "      <th>4</th>\n",
       "      <td>p1052661</td>\n",
       "      <td>새우깡</td>\n",
       "      <td>간식</td>\n",
       "      <td>과자</td>\n",
       "      <td>3</td>\n",
       "      <td>199</td>\n",
       "      <td>12</td>\n",
       "      <td>2017-03-08</td>\n",
       "      <td>1</td>\n",
       "      <td>1545</td>\n",
       "      <td>c085558</td>\n",
       "      <td>2007-04-05</td>\n",
       "      <td>F</td>\n",
       "      <td>1974</td>\n",
       "      <td>48</td>\n",
       "      <td>40대</td>\n",
       "    </tr>\n",
       "    <tr>\n",
       "      <th>...</th>\n",
       "      <td>...</td>\n",
       "      <td>...</td>\n",
       "      <td>...</td>\n",
       "      <td>...</td>\n",
       "      <td>...</td>\n",
       "      <td>...</td>\n",
       "      <td>...</td>\n",
       "      <td>...</td>\n",
       "      <td>...</td>\n",
       "      <td>...</td>\n",
       "      <td>...</td>\n",
       "      <td>...</td>\n",
       "      <td>...</td>\n",
       "      <td>...</td>\n",
       "      <td>...</td>\n",
       "      <td>...</td>\n",
       "    </tr>\n",
       "    <tr>\n",
       "      <th>70007</th>\n",
       "      <td>p1144661</td>\n",
       "      <td>양배출</td>\n",
       "      <td>채소</td>\n",
       "      <td>잎채소</td>\n",
       "      <td>5</td>\n",
       "      <td>3</td>\n",
       "      <td>1</td>\n",
       "      <td>2016-09-28</td>\n",
       "      <td>1</td>\n",
       "      <td>1650</td>\n",
       "      <td>c261447</td>\n",
       "      <td>2012-11-02</td>\n",
       "      <td>F</td>\n",
       "      <td>1976</td>\n",
       "      <td>46</td>\n",
       "      <td>40대</td>\n",
       "    </tr>\n",
       "    <tr>\n",
       "      <th>70008</th>\n",
       "      <td>p1144661</td>\n",
       "      <td>양배출</td>\n",
       "      <td>채소</td>\n",
       "      <td>잎채소</td>\n",
       "      <td>5</td>\n",
       "      <td>43</td>\n",
       "      <td>1</td>\n",
       "      <td>2016-12-22</td>\n",
       "      <td>1</td>\n",
       "      <td>1950</td>\n",
       "      <td>c142648</td>\n",
       "      <td>2009-11-10</td>\n",
       "      <td>F</td>\n",
       "      <td>1967</td>\n",
       "      <td>55</td>\n",
       "      <td>50대</td>\n",
       "    </tr>\n",
       "    <tr>\n",
       "      <th>70009</th>\n",
       "      <td>p1144661</td>\n",
       "      <td>양배출</td>\n",
       "      <td>채소</td>\n",
       "      <td>잎채소</td>\n",
       "      <td>5</td>\n",
       "      <td>149</td>\n",
       "      <td>4</td>\n",
       "      <td>2017-03-23</td>\n",
       "      <td>1</td>\n",
       "      <td>2500</td>\n",
       "      <td>c266623</td>\n",
       "      <td>2013-01-09</td>\n",
       "      <td>F</td>\n",
       "      <td>1981</td>\n",
       "      <td>41</td>\n",
       "      <td>40대</td>\n",
       "    </tr>\n",
       "    <tr>\n",
       "      <th>70010</th>\n",
       "      <td>p1211951</td>\n",
       "      <td>무농약시금치</td>\n",
       "      <td>채소</td>\n",
       "      <td>잎채소</td>\n",
       "      <td>5</td>\n",
       "      <td>45</td>\n",
       "      <td>1</td>\n",
       "      <td>2016-09-14</td>\n",
       "      <td>-5</td>\n",
       "      <td>-19250</td>\n",
       "      <td>c330348</td>\n",
       "      <td>2014-10-16</td>\n",
       "      <td>F</td>\n",
       "      <td>1969</td>\n",
       "      <td>53</td>\n",
       "      <td>50대</td>\n",
       "    </tr>\n",
       "    <tr>\n",
       "      <th>70011</th>\n",
       "      <td>p1211951</td>\n",
       "      <td>무농약시금치</td>\n",
       "      <td>채소</td>\n",
       "      <td>잎채소</td>\n",
       "      <td>5</td>\n",
       "      <td>89</td>\n",
       "      <td>1</td>\n",
       "      <td>2016-11-05</td>\n",
       "      <td>1</td>\n",
       "      <td>2250</td>\n",
       "      <td>c037481</td>\n",
       "      <td>2003-09-09</td>\n",
       "      <td>F</td>\n",
       "      <td>1964</td>\n",
       "      <td>58</td>\n",
       "      <td>50대</td>\n",
       "    </tr>\n",
       "  </tbody>\n",
       "</table>\n",
       "<p>70012 rows × 16 columns</p>\n",
       "</div>"
      ],
      "text/plain": [
       "      ProductID ProductName Category SubCategory  CategoryOrd  OrderID  Seq  \\\n",
       "0      p1052661         새우깡       간식          과자            3       83    7   \n",
       "1      p1052661         새우깡       간식          과자            3      139   17   \n",
       "2      p1052661         새우깡       간식          과자            3      171    3   \n",
       "3      p1052661         새우깡       간식          과자            3      177   23   \n",
       "4      p1052661         새우깡       간식          과자            3      199   12   \n",
       "...         ...         ...      ...         ...          ...      ...  ...   \n",
       "70007  p1144661         양배출       채소         잎채소            5        3    1   \n",
       "70008  p1144661         양배출       채소         잎채소            5       43    1   \n",
       "70009  p1144661         양배출       채소         잎채소            5      149    4   \n",
       "70010  p1211951      무농약시금치       채소         잎채소            5       45    1   \n",
       "70011  p1211951      무농약시금치       채소         잎채소            5       89    1   \n",
       "\n",
       "        OrderDate  Qty    Amt CustomerID RegisterDate Gender  BirthYear  Age  \\\n",
       "0      2016-01-02    1   1455    c085558   2007-04-05      F       1974   48   \n",
       "1      2016-07-13    1   1318    c085558   2007-04-05      F       1974   48   \n",
       "2      2016-10-12    1   1455    c085558   2007-04-05      F       1974   48   \n",
       "3      2017-02-21    1   1545    c085558   2007-04-05      F       1974   48   \n",
       "4      2017-03-08    1   1545    c085558   2007-04-05      F       1974   48   \n",
       "...           ...  ...    ...        ...          ...    ...        ...  ...   \n",
       "70007  2016-09-28    1   1650    c261447   2012-11-02      F       1976   46   \n",
       "70008  2016-12-22    1   1950    c142648   2009-11-10      F       1967   55   \n",
       "70009  2017-03-23    1   2500    c266623   2013-01-09      F       1981   41   \n",
       "70010  2016-09-14   -5 -19250    c330348   2014-10-16      F       1969   53   \n",
       "70011  2016-11-05    1   2250    c037481   2003-09-09      F       1964   58   \n",
       "\n",
       "      AgeGroup  \n",
       "0          40대  \n",
       "1          40대  \n",
       "2          40대  \n",
       "3          40대  \n",
       "4          40대  \n",
       "...        ...  \n",
       "70007      40대  \n",
       "70008      50대  \n",
       "70009      40대  \n",
       "70010      50대  \n",
       "70011      50대  \n",
       "\n",
       "[70012 rows x 16 columns]"
      ]
     },
     "execution_count": 21,
     "metadata": {},
     "output_type": "execute_result"
    }
   ],
   "source": [
    "# 1) 세 데이터프레임을 merge \n",
    "tmp = pd.merge(products, sales, on = 'ProductID', how = 'inner')\n",
    "tmp = pd.merge(tmp, customers, on = 'CustomerID', how = 'inner')\n",
    "tmp"
   ]
  },
  {
   "cell_type": "code",
   "execution_count": 24,
   "metadata": {},
   "outputs": [
    {
     "data": {
      "text/plain": [
       "['30대미만', '30대', '40대', '50대', '60대', '70이상']\n",
       "Categories (6, object): ['30대미만' < '30대' < '40대' < '50대' < '60대' < '70이상']"
      ]
     },
     "execution_count": 24,
     "metadata": {},
     "output_type": "execute_result"
    }
   ],
   "source": [
    "ag = tmp['AgeGroup'].unique().sort_values()\n",
    "ag"
   ]
  },
  {
   "cell_type": "code",
   "execution_count": 22,
   "metadata": {
    "id": "UE-R_bhKmZ9v",
    "scrolled": true
   },
   "outputs": [
    {
     "name": "stdout",
     "output_type": "stream",
     "text": [
      "Category\n",
      "간식     0.080877\n",
      "과일     0.088935\n",
      "반찬류    0.310787\n",
      "유제품    0.134631\n",
      "채소     0.384770\n",
      "Name: Amt, dtype: float64\n",
      "Category\n",
      "간식     0.068632\n",
      "과일     0.264618\n",
      "반찬류    0.129206\n",
      "유제품    0.255305\n",
      "채소     0.282240\n",
      "Name: Amt, dtype: float64\n",
      "Category\n",
      "간식     0.083996\n",
      "과일     0.257663\n",
      "반찬류    0.138119\n",
      "유제품    0.257045\n",
      "채소     0.263177\n",
      "Name: Amt, dtype: float64\n",
      "Category\n",
      "간식     0.057381\n",
      "과일     0.256595\n",
      "반찬류    0.171246\n",
      "유제품    0.229995\n",
      "채소     0.284783\n",
      "Name: Amt, dtype: float64\n",
      "Category\n",
      "간식     0.034329\n",
      "과일     0.226639\n",
      "반찬류    0.242396\n",
      "유제품    0.164646\n",
      "채소     0.331990\n",
      "Name: Amt, dtype: float64\n",
      "Category\n",
      "간식     0.025016\n",
      "과일     0.279025\n",
      "반찬류    0.269608\n",
      "유제품    0.108956\n",
      "채소     0.317394\n",
      "Name: Amt, dtype: float64\n"
     ]
    }
   ],
   "source": [
    "# 2) for loop를 이용하여, 각 연령대에 대해서 다음의 작업을 반복 수행합니다\n",
    "\n",
    "# 하나의 연령대 값에 대해서,\n",
    "# 상품 카테고리(Category)별 매출액 합계를 구합니다.\n",
    "# 연령대에 해당하는 전체 매출액으로 나눠서, 카테고리별 비율을 계산합니다.\n",
    "# 결과를 출력합니다.\n",
    "\n",
    "ag = tmp['AgeGroup'].unique().sort_values()\n",
    "\n",
    "for a in ag :\n",
    "    tmp1 = tmp.loc[tmp['AgeGroup'] == a]\n",
    "    t_amt = tmp1['Amt'].sum()\n",
    "    tmp2 = tmp1.groupby('Category')['Amt'].sum() / t_amt\n",
    "    print(tmp2)\n",
    "\n",
    "# result.append(((tmp.loc[tmp['AgeGroup'] == '30대미만'].groupby('Category')[['Amt']].sum() / tmp.loc[tmp['AgeGroup'] == '30대미만'][['Amt']].sum() ) * 100).round(2))\n",
    "# print(tmp.loc[tmp['AgeGroup'] == '30대'].groupby('Category')[['Amt']].sum())\n",
    "# result.append(((tmp.loc[tmp['AgeGroup'] == '30대'].groupby('Category')[['Amt']].sum() / tmp.loc[tmp['AgeGroup'] == '30대'][['Amt']].sum() ) * 100).round(2))"
   ]
  },
  {
   "cell_type": "code",
   "execution_count": 36,
   "metadata": {},
   "outputs": [
    {
     "data": {
      "text/plain": [
       "[            Amt\n",
       " Category       \n",
       " 간식         8.05\n",
       " 과일         6.34\n",
       " 반찬류       23.25\n",
       " 유제품       14.74\n",
       " 채소        47.62,\n",
       "             Amt\n",
       " Category       \n",
       " 간식         6.95\n",
       " 과일        24.44\n",
       " 반찬류       13.15\n",
       " 유제품       29.30\n",
       " 채소        26.16]"
      ]
     },
     "execution_count": 36,
     "metadata": {},
     "output_type": "execute_result"
    }
   ],
   "source": [
    "result"
   ]
  },
  {
   "cell_type": "code",
   "execution_count": null,
   "metadata": {},
   "outputs": [],
   "source": []
  }
 ],
 "metadata": {
  "colab": {
   "collapsed_sections": [],
   "name": "09 - 총정리실습.ipynb",
   "provenance": [],
   "toc_visible": true
  },
  "kernelspec": {
   "display_name": "Python 3",
   "language": "python",
   "name": "python3"
  },
  "language_info": {
   "codemirror_mode": {
    "name": "ipython",
    "version": 3
   },
   "file_extension": ".py",
   "mimetype": "text/x-python",
   "name": "python",
   "nbconvert_exporter": "python",
   "pygments_lexer": "ipython3",
   "version": "3.8.8"
  }
 },
 "nbformat": 4,
 "nbformat_minor": 1
}
